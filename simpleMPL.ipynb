{
 "cells": [
  {
   "cell_type": "code",
   "execution_count": 2,
   "metadata": {},
   "outputs": [],
   "source": [
    "\n",
    "import torch #Pytorch\n",
    "import matplotlib as plt #Matplotlib\n",
    "import matplotlib.pyplot as plt\n",
    "import seaborn as sns #Seaborn\n",
    "import numpy as np\n",
    "import pandas as pd\n",
    "import math as math\n",
    "import os\n",
    "import torch.nn as nn\n",
    "import torch.optim as optim\n",
    "from sklearn.model_selection import train_test_split # Splits data into training/testing sets\n",
    "from sklearn.preprocessing import StandardScaler #scales data for better preformance\n",
    "\n",
    "df = pd.read_csv('EditedCSVs/df2CSV.csv')"
   ]
  },
  {
   "cell_type": "code",
   "execution_count": 3,
   "metadata": {},
   "outputs": [
    {
     "data": {
      "text/html": [
       "<div>\n",
       "<style scoped>\n",
       "    .dataframe tbody tr th:only-of-type {\n",
       "        vertical-align: middle;\n",
       "    }\n",
       "\n",
       "    .dataframe tbody tr th {\n",
       "        vertical-align: top;\n",
       "    }\n",
       "\n",
       "    .dataframe thead th {\n",
       "        text-align: right;\n",
       "    }\n",
       "</style>\n",
       "<table border=\"1\" class=\"dataframe\">\n",
       "  <thead>\n",
       "    <tr style=\"text-align: right;\">\n",
       "      <th></th>\n",
       "      <th>Sex</th>\n",
       "      <th>NOC</th>\n",
       "      <th>Year</th>\n",
       "      <th>City</th>\n",
       "      <th>Sport</th>\n",
       "      <th>Event</th>\n",
       "      <th>Medal</th>\n",
       "    </tr>\n",
       "  </thead>\n",
       "  <tbody>\n",
       "    <tr>\n",
       "      <th>0</th>\n",
       "      <td>0</td>\n",
       "      <td>0</td>\n",
       "      <td>0</td>\n",
       "      <td>0</td>\n",
       "      <td>0</td>\n",
       "      <td>0</td>\n",
       "      <td>0</td>\n",
       "    </tr>\n",
       "    <tr>\n",
       "      <th>1</th>\n",
       "      <td>0</td>\n",
       "      <td>0</td>\n",
       "      <td>1</td>\n",
       "      <td>1</td>\n",
       "      <td>1</td>\n",
       "      <td>1</td>\n",
       "      <td>0</td>\n",
       "    </tr>\n",
       "    <tr>\n",
       "      <th>2</th>\n",
       "      <td>0</td>\n",
       "      <td>1</td>\n",
       "      <td>2</td>\n",
       "      <td>2</td>\n",
       "      <td>2</td>\n",
       "      <td>2</td>\n",
       "      <td>0</td>\n",
       "    </tr>\n",
       "    <tr>\n",
       "      <th>3</th>\n",
       "      <td>0</td>\n",
       "      <td>1</td>\n",
       "      <td>3</td>\n",
       "      <td>3</td>\n",
       "      <td>3</td>\n",
       "      <td>3</td>\n",
       "      <td>1</td>\n",
       "    </tr>\n",
       "    <tr>\n",
       "      <th>4</th>\n",
       "      <td>1</td>\n",
       "      <td>2</td>\n",
       "      <td>4</td>\n",
       "      <td>4</td>\n",
       "      <td>4</td>\n",
       "      <td>4</td>\n",
       "      <td>0</td>\n",
       "    </tr>\n",
       "    <tr>\n",
       "      <th>...</th>\n",
       "      <td>...</td>\n",
       "      <td>...</td>\n",
       "      <td>...</td>\n",
       "      <td>...</td>\n",
       "      <td>...</td>\n",
       "      <td>...</td>\n",
       "      <td>...</td>\n",
       "    </tr>\n",
       "    <tr>\n",
       "      <th>252560</th>\n",
       "      <td>1</td>\n",
       "      <td>188</td>\n",
       "      <td>30</td>\n",
       "      <td>3</td>\n",
       "      <td>4</td>\n",
       "      <td>711</td>\n",
       "      <td>0</td>\n",
       "    </tr>\n",
       "    <tr>\n",
       "      <th>252561</th>\n",
       "      <td>1</td>\n",
       "      <td>13</td>\n",
       "      <td>30</td>\n",
       "      <td>3</td>\n",
       "      <td>12</td>\n",
       "      <td>953</td>\n",
       "      <td>0</td>\n",
       "    </tr>\n",
       "    <tr>\n",
       "      <th>252562</th>\n",
       "      <td>0</td>\n",
       "      <td>2</td>\n",
       "      <td>30</td>\n",
       "      <td>3</td>\n",
       "      <td>4</td>\n",
       "      <td>846</td>\n",
       "      <td>1</td>\n",
       "    </tr>\n",
       "    <tr>\n",
       "      <th>252563</th>\n",
       "      <td>0</td>\n",
       "      <td>7</td>\n",
       "      <td>30</td>\n",
       "      <td>3</td>\n",
       "      <td>62</td>\n",
       "      <td>787</td>\n",
       "      <td>2</td>\n",
       "    </tr>\n",
       "    <tr>\n",
       "      <th>252564</th>\n",
       "      <td>0</td>\n",
       "      <td>84</td>\n",
       "      <td>30</td>\n",
       "      <td>3</td>\n",
       "      <td>4</td>\n",
       "      <td>950</td>\n",
       "      <td>2</td>\n",
       "    </tr>\n",
       "  </tbody>\n",
       "</table>\n",
       "<p>252565 rows × 7 columns</p>\n",
       "</div>"
      ],
      "text/plain": [
       "        Sex  NOC  Year  City  Sport  Event  Medal\n",
       "0         0    0     0     0      0      0      0\n",
       "1         0    0     1     1      1      1      0\n",
       "2         0    1     2     2      2      2      0\n",
       "3         0    1     3     3      3      3      1\n",
       "4         1    2     4     4      4      4      0\n",
       "...     ...  ...   ...   ...    ...    ...    ...\n",
       "252560    1  188    30     3      4    711      0\n",
       "252561    1   13    30     3     12    953      0\n",
       "252562    0    2    30     3      4    846      1\n",
       "252563    0    7    30     3     62    787      2\n",
       "252564    0   84    30     3      4    950      2\n",
       "\n",
       "[252565 rows x 7 columns]"
      ]
     },
     "metadata": {},
     "output_type": "display_data"
    }
   ],
   "source": [
    "display(df)"
   ]
  },
  {
   "cell_type": "code",
   "execution_count": 4,
   "metadata": {},
   "outputs": [
    {
     "name": "stdout",
     "output_type": "stream",
     "text": [
      "[[  0   0   0   0   0   0]\n",
      " [  0   0   1   1   1   1]\n",
      " [  0   1   2   2   2   2]\n",
      " ...\n",
      " [  0   2  30   3   4 846]\n",
      " [  0   7  30   3  62 787]\n",
      " [  0  84  30   3   4 950]]\n"
     ]
    }
   ],
   "source": [
    "df1 = df.drop([\"Medal\"],axis=1)\n",
    "a = df1.to_numpy()\n",
    "print(a)"
   ]
  },
  {
   "cell_type": "code",
   "execution_count": 5,
   "metadata": {},
   "outputs": [
    {
     "name": "stdout",
     "output_type": "stream",
     "text": [
      "Using CPU device\n"
     ]
    }
   ],
   "source": [
    "device = (\n",
    "    \"CPU\"\n",
    ")\n",
    "print(f\"Using {device} device\")"
   ]
  },
  {
   "cell_type": "code",
   "execution_count": 6,
   "metadata": {},
   "outputs": [],
   "source": [
    "class SimpleNeuralNetwork(nn.Module):\n",
    "    def __init__(self, input_size, output_size):\n",
    "        super().__init__()\n",
    "        self.relu = nn.ReLU()\n",
    "        self.fc1 = nn.Linear(input_size, 10)\n",
    "        self.fc2 = nn.Linear(10,20)\n",
    "        self.fc3 = nn.Linear(20,15)\n",
    "        self.fc4 = nn.Linear(15, output_size+1)  # 20 extra for safety     \n",
    "        self.drp = nn.Dropout(p=0.1,inplace=False)\n",
    "       \n",
    "    def forward(self, x):\n",
    "        x = self.fc1(x)\n",
    "        x = self.relu(x)\n",
    "        x = self.drp(x)\n",
    "        x = self.fc2(x)\n",
    "        x = self.relu(x)\n",
    "        x = self.drp(x)\n",
    "        x = self.fc3(x)\n",
    "        x = self.relu(x)\n",
    "        x = self.drp(x)\n",
    "        x = self.fc4(x)\n",
    "        return x"
   ]
  },
  {
   "cell_type": "code",
   "execution_count": 7,
   "metadata": {},
   "outputs": [],
   "source": [
    "def trainSplit(X,y):\n",
    "    scalar = StandardScaler()\n",
    "\n",
    "\n",
    "    X_train,X_test,y_train,y_test = train_test_split(X,y,test_size=0.2,random_state=0)\n",
    "\n",
    "    X_train = scalar.fit_transform(X_train)\n",
    "    X_test = scalar.transform(X_test)\n",
    "\n",
    "\n",
    "    #converts to pytorch tensors and moves them to the device we selected\n",
    "\n",
    "\n",
    "    X_train_tensor = (torch.tensor(X_train,dtype=torch.float32))\n",
    "    X_test_tensor = (torch.tensor(X_test,dtype=torch.float32))\n",
    "\n",
    "    y_train_tensor = (torch.tensor(y_train,dtype=torch.long))\n",
    "    y_test_tensor = (torch.tensor(y_test,dtype=torch.long))\n",
    "\n",
    "    return X_train_tensor,y_train_tensor,X_test_tensor,y_test_tensor"
   ]
  },
  {
   "cell_type": "code",
   "execution_count": 24,
   "metadata": {},
   "outputs": [],
   "source": [
    "def train(X_train_tensor,y_train_tensor,model,filename=None,num_epocs=None):\n",
    "\n",
    "    #Default num_epocs if none are specified\n",
    "    if num_epocs is None:\n",
    "        num_epocs = 50        \n",
    "\n",
    "    #Loss function and optimizer\n",
    "    lossF = nn.CrossEntropyLoss()\n",
    "    optimizer = optim.Adam(model.parameters(),lr=0.01)\n",
    "\n",
    "    for epoch in range(num_epocs):\n",
    "        outputs = model(X_train_tensor)\n",
    "        loss = lossF(outputs,y_train_tensor)\n",
    "\n",
    "        optimizer.zero_grad()\n",
    "        loss.backward() \n",
    "        optimizer.step()\n",
    "        if(epoch+1)%10 == 0:\n",
    "            print(epoch+1)\n",
    "    #Save the model if a file name is given\n",
    "    if filename is not None:\n",
    "        torch.save(model,filename)\n",
    "        print(f'Saved model as: {filename}')\n",
    "    "
   ]
  },
  {
   "cell_type": "code",
   "execution_count": 26,
   "metadata": {},
   "outputs": [
    {
     "name": "stdout",
     "output_type": "stream",
     "text": [
      "10\n",
      "20\n",
      "30\n",
      "40\n",
      "50\n",
      "60\n",
      "70\n",
      "80\n",
      "90\n",
      "100\n",
      "110\n",
      "120\n",
      "130\n",
      "140\n",
      "150\n",
      "160\n",
      "170\n",
      "180\n",
      "190\n",
      "200\n",
      "Saved model as: Model\n"
     ]
    }
   ],
   "source": [
    "y = df[\"Medal\"].to_numpy()\n",
    "\n",
    "inputSize = a[0].size\n",
    "outputSize = int(y.max())\n",
    "\n",
    "xte,yte,xtest,ytest = trainSplit(a,y)\n",
    "model = SimpleNeuralNetwork(inputSize,outputSize)\n",
    "train(xte,yte,model,\"Model\",num_epocs=200)"
   ]
  },
  {
   "cell_type": "code",
   "execution_count": 27,
   "metadata": {},
   "outputs": [],
   "source": [
    "def printResults(model,X_test_tensor,y_test_tensor,error=None):\n",
    "    if error is None:\n",
    "        error = 100\n",
    "    else:\n",
    "        error = error/10\n",
    "    with torch.no_grad():  \n",
    "        outputs = model(X_test_tensor)  \n",
    "        _, predicted = torch.max(outputs, 1) \n",
    "\n",
    "        # Calculate accuracy\n",
    "        correct = (abs(predicted - y_test_tensor) < error).sum().item()  \n",
    "        print(f'Correct: {correct}/{y_test_tensor.size(0)}')\n",
    "        accuracy = correct / y_test_tensor.size(0)  \n",
    "        print(f'Accuracy on test data: {accuracy * 100:.2f}%')\n",
    "\n",
    "        predicted = predicted.cpu()\n",
    "        y_test_tensor = y_test_tensor.cpu()\n",
    "        predicted_values = (predicted.numpy())\n",
    "        actual_values = (y_test_tensor.numpy())\n",
    "\n",
    "        data = pd.DataFrame({\n",
    "            'Actual': actual_values,\n",
    "            'Predicted': predicted_values\n",
    "        })\n",
    "\n",
    "        fig, ax = plt.subplots(figsize=(10, 6))  \n",
    "\n",
    "\n",
    "        ax.scatter(data['Actual'], data['Predicted'], alpha=0.6, label='Data points')\n",
    "\n",
    "\n",
    "        ax.plot(\n",
    "            [data['Actual'].min(), data['Actual'].max()],\n",
    "            [data['Actual'].min(), data['Actual'].max()],\n",
    "            color='red',\n",
    "            label='Ideal fit'\n",
    "        )\n",
    "\n",
    "\n",
    "        ax.set_title('Actual vs Predicted Values') \n",
    "        ax.set_xlabel('Actual Values')  \n",
    "        ax.set_ylabel('Predicted Values')  \n",
    "        ax.legend()\n",
    "        ax.grid(True)\n",
    "\n",
    "    return ax"
   ]
  },
  {
   "cell_type": "code",
   "execution_count": 28,
   "metadata": {},
   "outputs": [],
   "source": [
    "def loadModel(modelName):\n",
    "    model = torch.load(modelName,weights_only=False)\n",
    "    model.eval()\n",
    "    return model"
   ]
  },
  {
   "cell_type": "code",
   "execution_count": 29,
   "metadata": {},
   "outputs": [
    {
     "name": "stdout",
     "output_type": "stream",
     "text": [
      "Correct: 0/50513\n",
      "Accuracy on test data: 0.00%\n"
     ]
    },
    {
     "data": {
      "image/png": "[encoded data removed]",
      "text/plain": [
       "<Figure size 1000x600 with 1 Axes>"
      ]
     },
     "metadata": {},
     "output_type": "display_data"
    }
   ],
   "source": [
    "printResults(loadModel(\"Model\"),xtest,ytest,error=0)\n",
    "plt.show()"
   ]
  },
  {
   "cell_type": "code",
   "execution_count": null,
   "metadata": {},
   "outputs": [],
   "source": [
    "d"
   ]
  }
 ],
 "metadata": {
  "kernelspec": {
   "display_name": "Python 3",
   "language": "python",
   "name": "python3"
  },
  "language_info": {
   "codemirror_mode": {
    "name": "ipython",
    "version": 3
   },
   "file_extension": ".py",
   "mimetype": "text/x-python",
   "name": "python",
   "nbconvert_exporter": "python",
   "pygments_lexer": "ipython3",
   "version": "3.12.3"
  }
 },
 "nbformat": 4,
 "nbformat_minor": 2
}
